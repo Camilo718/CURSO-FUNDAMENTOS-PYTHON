{
 "cells": [
  {
   "cell_type": "markdown",
   "metadata": {},
   "source": [
    "# Ejercicios para aplicar funciones, estructuras de control, colecciones, módulos y manejo de excepciones\n",
    "\n",
    "---\n",
    "\n",
    "## Ejercicio 1: Calculadora Avanzada\n",
    "\n",
    "**Descripción:**  \n",
    "Crea una función que actúe como calculadora. La función recibirá dos números y un operador (por ejemplo, '+', '-', '*', '/', '**', '//') para realizar la operación correspondiente.  \n",
    "- Utiliza estructuras de control (if/else) para seleccionar la operación a realizar.  \n",
    "- Usa manejo de excepciones para controlar errores como la división por cero y entradas no numéricas.  \n",
    "- Puedes importar el módulo `math` para operaciones adicionales si es necesario.\n",
    "\n",
    "**Ejemplo de salida:**  \n",
    "\n",
    "Ingrese el primer número: 10\n",
    "Ingrese el segundo número: 5\n",
    "Ingrese el operador (+, -, *, /, **, //): /\n",
    "Resultado: 10 / 5 = 2.0"
   ]
  },
  {
   "cell_type": "code",
   "execution_count": 5,
   "metadata": {},
   "outputs": [],
   "source": [
    "def calculadora():\n",
    "    try:\n",
    "        num1 = float(input(\"Ingresa el primer número: \"))\n",
    "        operador = input(\"Ingresa el operador (+, -, *, /, **, //): \")\n",
    "        num2 = float(input(\"Ingresa el segundo número: \"))\n",
    "\n",
    "        if operador == '+':\n",
    "            resultado = num1 + num2\n",
    "        elif operador == '-':\n",
    "            resultado = num1 - num2\n",
    "        elif operador == '*':\n",
    "            resultado = num1 * num2\n",
    "        elif operador == '/':\n",
    "            if num2 == 0:\n",
    "                return \"error: Divison por cero\"\n",
    "            resultado = num1 / num2\n",
    "        elif operador == '**':\n",
    "            resultado = num1 ** num2\n",
    "        elif operador == '//':\n",
    "            if num2 == 0:\n",
    "                return \"error: Division por cero\"\n",
    "            resultado = num1 // num2\n",
    "        else:\n",
    "            return \"error: Operador no valido\"\n",
    "\n",
    "        return f\"Resultado: {resultado}\"\n",
    "\n",
    "    except ValueError:\n",
    "        return \"error: entrada no aceptada asegurate de ingresar los numeros\"\n",
    "\n"
   ]
  },
  {
   "cell_type": "code",
   "execution_count": 6,
   "metadata": {},
   "outputs": [
    {
     "name": "stdout",
     "output_type": "stream",
     "text": [
      "Resultado: 25.0\n"
     ]
    }
   ],
   "source": [
    "print(calculadora())"
   ]
  },
  {
   "cell_type": "markdown",
   "metadata": {},
   "source": [
    "\n",
    "---\n",
    "\n",
    "## Ejercicio 2: Administrador de Inventarios\n",
    "\n",
    "**Descripción:**  \n",
    "Desarrolla un sistema para gestionar el inventario de productos usando un diccionario donde cada clave es el nombre del producto y su valor la cantidad en stock.  \n",
    "- Implementa funciones para agregar, actualizar y eliminar productos.  \n",
    "- Utiliza estructuras de control para recorrer y mostrar el inventario.  \n",
    "- Incluye manejo de excepciones para capturar intentos de actualizar o eliminar un producto inexistente.\n",
    "\n",
    "**Ejemplo de salida:**  \n",
    "Inventario inicial: {'manzanas': 50, 'naranjas': 30, 'peras': 20}\n",
    "Actualizando stock de 'peras' a 25...\n",
    "Producto 'bananas' agregado con 40 unidades.\n",
    "Eliminando 'naranjas'...\n",
    "Inventario final: {'manzanas': 50, 'peras': 25, 'bananas': 40}"
   ]
  },
  {
   "cell_type": "code",
   "execution_count": 19,
   "metadata": {},
   "outputs": [
    {
     "name": "stdout",
     "output_type": "stream",
     "text": [
      "\n",
      "--- Gestión de Inventario ---\n",
      "1. Agregar\n",
      "2. Actualizar\n",
      "3. Eliminar\n",
      "4. Mostrar\n",
      "5. Salir\n"
     ]
    },
    {
     "name": "stdout",
     "output_type": "stream",
     "text": [
      "Producto 'Manzana' agregado con cantidad 4.\n",
      "\n",
      "--- Gestión de Inventario ---\n",
      "1. Agregar\n",
      "2. Actualizar\n",
      "3. Eliminar\n",
      "4. Mostrar\n",
      "5. Salir\n",
      "Saliendo del sistema. ¡Hasta luego!\n"
     ]
    }
   ],
   "source": [
    "inventario = {}\n",
    "\n",
    "def obtener_nombre(mensaje): \n",
    "    return input(mensaje).strip()\n",
    "\n",
    "def pedir_cantidad():\n",
    "    try: return int(input(\"Cantidad: \"))\n",
    "    except ValueError:\n",
    "        print(\"Error: La cantidad debe ser un número entero.\")\n",
    "        return None\n",
    "\n",
    "def agregar_producto():\n",
    "    nombre = obtener_nombre(\"Nombre del producto a agregar: \")\n",
    "    if nombre in inventario:\n",
    "        print(f\"El producto '{nombre}' ya existe.\")\n",
    "    else:\n",
    "        cantidad = pedir_cantidad()\n",
    "        if cantidad is not None:\n",
    "            inventario[nombre] = cantidad\n",
    "            print(f\"Producto '{nombre}' agregado con cantidad {cantidad}.\")\n",
    "\n",
    "def actualizar_producto():\n",
    "    nombre = obtener_nombre(\"Nombre del producto a actualizar: \")\n",
    "    if nombre in inventario:\n",
    "        cantidad = pedir_cantidad()\n",
    "        if cantidad is not None:\n",
    "            inventario[nombre] = cantidad\n",
    "            print(f\"Producto '{nombre}' actualizado a cantidad {cantidad}.\")\n",
    "    else:\n",
    "        print(f\"Error: El producto '{nombre}' no existe.\")\n",
    "\n",
    "def eliminar_producto():\n",
    "    nombre = obtener_nombre(\"Nombre del producto a eliminar: \")\n",
    "    if nombre in inventario:\n",
    "        del inventario[nombre]\n",
    "        print(f\"Producto '{nombre}' eliminado.\")\n",
    "    else:\n",
    "        print(f\"Error: El producto '{nombre}' no existe.\")\n",
    "\n",
    "def mostrar_inventario():\n",
    "    if inventario:\n",
    "        print(\"\\nInventario actual:\")\n",
    "        [print(f\"- {p}: {c}\") for p, c in inventario.items()]\n",
    "    else:\n",
    "        print(\"El inventario está vacío.\")\n",
    "\n",
    "def menu_inventario():\n",
    "    opciones = {\n",
    "        '1': agregar_producto,\n",
    "        '2': actualizar_producto,\n",
    "        '3': eliminar_producto,\n",
    "        '4': mostrar_inventario\n",
    "    }\n",
    "    while True:\n",
    "        print(\"\\n--- Gestión de Inventario ---\\n1. Agregar\\n2. Actualizar\\n3. Eliminar\\n4. Mostrar\\n5. Salir\")\n",
    "        opcion = input(\"Selecciona una opción (1-5): \")\n",
    "        if opcion == '5':\n",
    "            print(\"Saliendo del sistema. ¡Hasta luego!\")\n",
    "            break\n",
    "        elif opcion in opciones:\n",
    "            opciones[opcion]()\n",
    "        else:\n",
    "            print(\"Opción no válida. Intenta de nuevo.\")\n",
    "\n",
    "menu_inventario()\n",
    "\n"
   ]
  },
  {
   "cell_type": "markdown",
   "metadata": {},
   "source": [
    "\n",
    "---\n",
    "\n",
    "## Ejercicio 3: Análisis de Texto\n",
    "\n",
    "**Descripción:**  \n",
    "Crea una función que reciba una cadena de texto y calcule la frecuencia de cada palabra en el mismo.  \n",
    "- Convierte el texto a minúsculas y separa las palabras usando algún método (puedes utilizar expresiones regulares con el módulo `re`).  \n",
    "- Emplea un diccionario para almacenar la palabra (clave) y su frecuencia (valor).  \n",
    "- Controla excepciones en caso de que el usuario no ingrese ningún texto o ingrese caracteres inesperados.\n",
    "\n",
    "**Ejemplo de salida:**  \n",
    "Ingrese un texto: \"Hola mundo, hola a todos en el mundo\"\n",
    "Frecuencia de palabras: hola: 2\n",
    "mundo: 2\n",
    "a: 1\n",
    "todos: 1\n",
    "en: 1\n",
    "el: 1"
   ]
  },
  {
   "cell_type": "code",
   "execution_count": 7,
   "metadata": {},
   "outputs": [
    {
     "name": "stdout",
     "output_type": "stream",
     "text": [
      "contar palabras\n",
      "los: 1\n",
      "calvos: 1\n",
      "les: 1\n",
      "gusta: 1\n",
      "el: 1\n",
      "shampoo: 1\n"
     ]
    }
   ],
   "source": [
    "import re\n",
    "\n",
    "def contar_palabras(texto):\n",
    "    palabras = re.findall(r'\\w+', texto.lower())\n",
    "\n",
    "    frecuencia = {}\n",
    "\n",
    "    for palabra in palabras:\n",
    "         if palabra in frecuencia:\n",
    "            frecuencia[palabra] += 1\n",
    "         else:\n",
    "            frecuencia[palabra] = 1\n",
    "\n",
    "    return frecuencia\n",
    "\n",
    "texto = input(\"escriba un texto :   \")\n",
    "resultado = contar_palabras(texto)\n",
    "\n",
    "print(\"contar palabras\")\n",
    "for palabra,cantidad in resultado.items():\n",
    "    print(f\"{palabra}: {cantidad}\")"
   ]
  },
  {
   "cell_type": "markdown",
   "metadata": {},
   "source": [
    "\n",
    "---\n",
    "\n",
    "## Ejercicio 4: Conversor de Unidades\n",
    "\n",
    "**Descripción:**  \n",
    "Desarrolla un conjunto de funciones para convertir unidades métricas. Por ejemplo:  \n",
    "- De centímetros a pulgadas.  \n",
    "- De kilómetros a millas.  \n",
    "Utiliza estructuras de control para verificar que la entrada sea numérica, y maneja excepciones cuando el usuario ingrese datos inválidos.\n",
    "\n",
    "**Ejemplo de salida:**  \n",
    "Seleccione la conversión:\n",
    "\n",
    "Centímetros a pulgadas\n",
    "\n",
    "Kilómetros a millas\n",
    "Opción: 1\n",
    "Ingrese la cantidad en centímetros: 100\n",
    "Resultado: 100 cm = 39.37 pulgadas"
   ]
  },
  {
   "cell_type": "code",
   "execution_count": 8,
   "metadata": {},
   "outputs": [
    {
     "name": "stdout",
     "output_type": "stream",
     "text": [
      "\n",
      "1. centimetros a pulgadas\n",
      "2. kilometros a millas\n",
      "13.0 cm = 5.118113 pulgadas\n",
      "fin del sistema\n"
     ]
    }
   ],
   "source": [
    "def centimetrsos_pulgadas(cm):\n",
    "    return cm * 0.393701\n",
    "\n",
    "def kilometros_millas(km):\n",
    "    return km  * 0.621371\n",
    "\n",
    "print(\"\\n1. centimetros a pulgadas\\n2. kilometros a millas\")\n",
    "\n",
    "while True:\n",
    "    opcion = input(\"\\nseleccione alguna de las siguientes opciones (1/2) o 'salir' para poder salir:  \")\n",
    "    if opcion == 'salir':\n",
    "        print(\"fin del sistema\")\n",
    "        break\n",
    "\n",
    "    if opcion not in ('1', '2'):\n",
    "       print(\"opcion no calida \")\n",
    "       continue\n",
    "\n",
    "    try:\n",
    "        valor = float(input(\"ingrese el numero al que desea convertir: \"))\n",
    "        if valor < 0:\n",
    "          print(\"el valor deve ser positivo\")\n",
    "          continue\n",
    "\n",
    "    except ValueError:\n",
    "        print(\"deve ingresar un numero valido\")\n",
    "        continue\n",
    "\n",
    "\n",
    "    if opcion == '1':\n",
    "        resultado = centimetrsos_pulgadas(valor)\n",
    "        print(f\"{valor} cm = {resultado} pulgadas\")\n",
    "\n",
    "    else:\n",
    "        resultado = kilometros_millas(valor)\n",
    "        print(f\"{valor} km = {resultado} millas\")"
   ]
  },
  {
   "cell_type": "markdown",
   "metadata": {},
   "source": [
    "\n",
    "---\n",
    "\n",
    "## Ejercicio 5: Juego \"Adivina el Número\"\n",
    "\n",
    "**Descripción:**  \n",
    "Implementa un juego en el que la computadora selecciona aleatoriamente un número en un rango (por ejemplo, 1 a 50) y el usuario debe adivinarlo.  \n",
    "- Emplea el módulo `random` para generar el número secreto.  \n",
    "- Utiliza un bucle que permita múltiples intentos, con retroalimentación indicando si el número ingresado es mayor o menor que el secreto.  \n",
    "- Gestiona excepciones para capturar entradas no numéricas.\n",
    "\n",
    "**Ejemplo de salida:**  \n",
    "¡Bienvenido al juego \"Adivina el Número\"!\n",
    "Estoy pensando en un número entre 1 y 50.\n",
    "Intento 1 - Ingresa tu número: 25\n",
    "El número secreto es mayor.\n",
    "Intento 2 - Ingresa tu número: 35\n",
    "El número secreto es menor.\n",
    "Intento 3 - Ingresa tu número: 30\n",
    "¡Felicidades! Has adivinado el número secreto: 30"
   ]
  },
  {
   "cell_type": "code",
   "execution_count": null,
   "metadata": {},
   "outputs": [
    {
     "name": "stdout",
     "output_type": "stream",
     "text": [
      "Estoy pensando en un número entre 1 y 20.\n",
      "Intenta adivinar:\n",
      "Por favor ingresa solo números enteros.\n",
      "Intenta adivinar:\n",
      "Por favor ingresa solo números enteros.\n",
      "Intenta adivinar:\n",
      "Tu estimación es muy alta.\n",
      "Intenta adivinar:\n",
      "Tu estimación es muy baja.\n",
      "Intenta adivinar:\n",
      "Tu estimación es muy baja.\n",
      "Intenta adivinar:\n",
      "Tu estimación es muy baja.\n",
      "Intenta adivinar:\n",
      "Tu estimación es muy baja.\n",
      "Intenta adivinar:\n",
      "Tu estimación es muy baja.\n",
      "El número que estaba pensando era 8\n"
     ]
    }
   ],
   "source": [
    "import random\n",
    "\n",
    "def jugar_adivina_numero():\n",
    "    # Configuración del juego\n",
    "    numero_secreto = random.randint(1, 20)\n",
    "    intentos = 0\n",
    "    max_intentos = 6\n",
    "\n",
    "    print('Estoy pensando en un número entre 1 y 20.')\n",
    "\n",
    "    while intentos < max_intentos:\n",
    "        try:\n",
    "            print('Intenta adivinar:')\n",
    "            intentos += 1\n",
    "\n",
    "            estimacion = int(input())\n",
    "\n",
    "            if estimacion < numero_secreto:\n",
    "                print('Tu estimación es muy baja.')\n",
    "            elif estimacion > numero_secreto:\n",
    "                print('Tu estimación es muy alta.')\n",
    "            else:\n",
    "                print(f'¡Buen trabajo! ¡Has adivinado mi número en {intentos} intentos!')\n",
    "                return\n",
    "\n",
    "        except ValueError:\n",
    "            print('Por favor ingresa solo números enteros.')\n",
    "            intentos -= 1 \n",
    "\n",
    "    print(f'El número que estaba pensando era {numero_secreto}')\n",
    "\n",
    "jugar_adivina_numero()"
   ]
  },
  {
   "cell_type": "markdown",
   "metadata": {},
   "source": [
    "\n",
    "---\n",
    "\n",
    "## Ejercicio 6: Calculadora de Factorial\n",
    "\n",
    "**Descripción:**  \n",
    "Crea una función que calcule el factorial de un número entero ingresado por el usuario.  \n",
    "- La función debe utilizar estructuras de control para iterar (o una solución recursiva) y calcular el factorial.  \n",
    "- Implementa manejo de excepciones para asegurarte de que el número ingresado es entero y no negativo.\n",
    "\n",
    "**Ejemplo de salida:**  \n",
    "Ingrese un número entero para calcular su factorial: 5\n",
    "El factorial de 5 es 120"
   ]
  },
  {
   "cell_type": "code",
   "execution_count": 3,
   "metadata": {},
   "outputs": [
    {
     "name": "stdout",
     "output_type": "stream",
     "text": [
      "El factorial de 8 es 40320\n"
     ]
    }
   ],
   "source": [
    "def factorial_recursivo(n):\n",
    "    return 1 if n == 0 else n * factorial_recursivo(n - 1)\n",
    "\n",
    "def calcular_factorial():\n",
    "    while True:\n",
    "        try:\n",
    "            numero = int(input(\"Ingrese un número entero para calcular su factorial: \"))\n",
    "            if numero < 0:\n",
    "                print(\"Error: El número no puede ser negativo.\")\n",
    "                continue\n",
    "            print(f\"El factorial de {numero} es {factorial_recursivo(numero)}\")\n",
    "            break\n",
    "        except ValueError:\n",
    "            print(\"Error: Debe ingresar un número entero válido.\")\n",
    "\n",
    "calcular_factorial()"
   ]
  },
  {
   "cell_type": "markdown",
   "metadata": {},
   "source": [
    "\n",
    "---\n",
    "\n",
    "## Ejercicio 7: Manejo de Fechas y Horas\n",
    "\n",
    "**Descripción:**  \n",
    "Desarrolla una función que reciba una fecha ingresada por el usuario en formato \"DD/MM/AAAA\" y determine cuántos días faltan para esa fecha a partir de hoy.  \n",
    "- Importa el módulo `datetime` para trabajar con fechas.  \n",
    "- Utiliza estructuras de control para validar el formato y maneja excepciones en caso de error en el ingreso de la fecha.\n",
    "\n",
    "**Ejemplo de salida:**  \n",
    "Ingrese una fecha (DD/MM/AAAA): 25/12/2023\n",
    "Faltan 150 días para el 25/12/2023."
   ]
  },
  {
   "cell_type": "code",
   "execution_count": 2,
   "metadata": {},
   "outputs": [
    {
     "name": "stdout",
     "output_type": "stream",
     "text": [
      "Faltan 247 días para el 24/12/2025.\n"
     ]
    }
   ],
   "source": [
    "from datetime import datetime\n",
    "\n",
    "def dia_fechas():\n",
    "    try:\n",
    "        fecha_ingresada = input(\"Ingrese una fecha (DD/MM/AAAA): \")\n",
    "        fecha_obj = datetime.strptime(fecha_ingresada, \"%d/%m/%Y\")\n",
    "        fecha_hoy = datetime.now()\n",
    "\n",
    "        if fecha_obj < fecha_hoy:\n",
    "            print(\"La fecha ingresada ya ha pasado.\")\n",
    "        else:\n",
    "            diferencia = fecha_obj - fecha_hoy\n",
    "            print(f\"Faltan {diferencia.days} días para el {fecha_ingresada}.\")\n",
    "    except ValueError:\n",
    "        print(\"Formato de fecha inválido. Asegúrese de usar el formato DD/MM/AAAA.\")\n",
    "\n",
    "dia_fechas()"
   ]
  },
  {
   "cell_type": "markdown",
   "metadata": {},
   "source": [
    "\n",
    "---\n",
    "\n",
    "## Ejercicio 8: Registro de Estudiantes\n",
    "\n",
    "**Descripción:**  \n",
    "Implementa un sistema que gestione un registro de estudiantes utilizando un diccionario, donde la clave sea el nombre y el valor la calificación.  \n",
    "- Crea funciones para agregar un estudiante, actualizar la calificación, eliminar estudiantes y listar todo el registro.  \n",
    "- Utiliza un bucle para mostrar un menú interactivo al usuario.  \n",
    "- Maneja excepciones para gestionar errores en la selección de opciones o al intentar modificar un estudiante inexistente.\n",
    "\n",
    "**Ejemplo de salida:**  \n",
    "Registro de estudiantes inicial: {'Ana': 90, 'Luis': 78, 'Carlos': 85}\n",
    "\n",
    "Menú:\n",
    "\n",
    "Agregar estudiante\n",
    "\n",
    "Actualizar calificación\n",
    "\n",
    "Eliminar estudiante\n",
    "\n",
    "Listar estudiantes\n",
    "\n",
    "Salir\n",
    "\n",
    "Opción: 2\n",
    "Ingrese el nombre del estudiante: Luis\n",
    "Ingrese la nueva calificación: 82\n",
    "Estudiante actualizado: Luis - 82\n",
    "\n",
    "Registro final: {'Ana': 90, 'Luis': 82, 'Carlos': 85}"
   ]
  },
  {
   "cell_type": "code",
   "execution_count": 1,
   "metadata": {},
   "outputs": [
    {
     "name": "stdout",
     "output_type": "stream",
     "text": [
      "\n",
      "Menú: 1.Agregar 2.Actualizar 3.Eliminar 4.Listar 5.Salir\n",
      "Entrada no válida.\n",
      "\n",
      "Menú: 1.Agregar 2.Actualizar 3.Eliminar 4.Listar 5.Salir\n",
      "Entrada no válida.\n",
      "\n",
      "Menú: 1.Agregar 2.Actualizar 3.Eliminar 4.Listar 5.Salir\n"
     ]
    }
   ],
   "source": [
    "def sistema_registro():\n",
    "    registro = {'Ana': 90, 'Luis': 78, 'Carlos': 85}\n",
    "\n",
    "    while True:\n",
    "        print(\"\\nMenú: 1.Agregar 2.Actualizar 3.Eliminar 4.Listar 5.Salir\")\n",
    "        try:\n",
    "            opcion = int(input(\"Seleccione una opción: \"))\n",
    "            if opcion == 1:\n",
    "                nombre = input(\"Nombre: \")\n",
    "                calificacion = int(input(\"Calificación: \"))\n",
    "                registro[nombre] = calificacion\n",
    "            elif opcion == 2:\n",
    "                nombre = input(\"Nombre: \")\n",
    "                if nombre in registro:\n",
    "                    registro[nombre] = int(input(\"Nueva calificación: \"))\n",
    "            elif opcion == 3:\n",
    "                nombre = input(\"Nombre: \")\n",
    "                registro.pop(nombre, None)\n",
    "            elif opcion == 4:\n",
    "                print(registro)\n",
    "            elif opcion == 5:\n",
    "                break\n",
    "            else:\n",
    "                print(\"Opción inválida.\")\n",
    "        except ValueError:\n",
    "            print(\"Entrada no válida.\")\n",
    "\n",
    "sistema_registro()"
   ]
  },
  {
   "cell_type": "markdown",
   "metadata": {},
   "source": [
    "\n",
    "---\n",
    "\n",
    "## Ejercicio 9: Generador de Contraseñas Aleatorias\n",
    "\n",
    "**Descripción:**  \n",
    "Crea una función que genere una contraseña aleatoria de una longitud especificada por el usuario.  \n",
    "- Utiliza el módulo `random` junto con la biblioteca `string` para construir la contraseña a partir de letras (mayúsculas y minúsculas), dígitos y caracteres especiales.  \n",
    "- Valida la entrada y maneja excepciones para asegurarte de que la longitud es un número entero positivo.\n",
    "\n",
    "**Ejemplo de salida:**  \n",
    "Ingrese la longitud deseada para la contraseña: 10\n",
    "Contraseña generada: A8b#K3d!Qz"
   ]
  },
  {
   "cell_type": "code",
   "execution_count": null,
   "metadata": {},
   "outputs": [
    {
     "name": "stdout",
     "output_type": "stream",
     "text": [
      "Contraseña generada: 3yr\n"
     ]
    }
   ],
   "source": [
    "import random\n",
    "import string\n",
    "\n",
    "def generar_contrasena():\n",
    "    try:\n",
    "        longitud = int(input(\"Ingrese la longitud deseada para la contraseña: \"))\n",
    "        \n",
    "        if longitud <= 0:\n",
    "            print(\"Error: La longitud debe ser un número entero positivo.\")\n",
    "            return\n",
    "        caracteres = string.ascii_letters + string.digits + string.punctuation\n",
    "        contrasena = ''.join(random.choice(caracteres) for _ in range(longitud))\n",
    "        \n",
    "        print(f\"Contraseña generada: {contrasena}\")\n",
    "    \n",
    "    except ValueError:\n",
    "        print(\"Error: Debe ingresar un número entero válido.\")\n",
    "\n",
    "generar_contrasena()"
   ]
  },
  {
   "cell_type": "markdown",
   "metadata": {},
   "source": [
    "\n",
    "---\n",
    "\n",
    "## Ejercicio 10: Buscador de Archivos en un Directorio\n",
    "\n",
    "**Descripción:**  \n",
    "Desarrolla una función que reciba el nombre de un directorio y una subcadena para buscar archivos cuyo nombre la contenga.  \n",
    "- Utiliza el módulo `os` para listar el contenido del directorio.  \n",
    "- Aplica estructuras de control para filtrar los archivos según la subcadena.  \n",
    "- Implementa manejo de excepciones para controlar errores como directorio no existente o permisos insuficientes.\n",
    "\n",
    "**Ejemplo de salida:**  \n",
    "Ingrese la ruta del directorio: /ruta/al/directorio\n",
    "Ingrese la subcadena a buscar: reporte\n",
    "Archivos encontrados que contienen \"reporte\":\n",
    "\n",
    "reporte_enero.pdf\n",
    "\n",
    "reporte_febrero.xlsx\n",
    "\n",
    "resumen_reporte.txt"
   ]
  },
  {
   "cell_type": "code",
   "execution_count": 1,
   "metadata": {},
   "outputs": [
    {
     "name": "stdout",
     "output_type": "stream",
     "text": [
      "Error: El directorio no existe.\n"
     ]
    }
   ],
   "source": [
    "import os\n",
    "\n",
    "def buscar_archivos(directorio, subcadena):\n",
    "    try:\n",
    "        if not os.path.isdir(directorio):\n",
    "            print(\"Error: El directorio no existe.\")\n",
    "            return\n",
    "\n",
    "        archivos_encontrados = []\n",
    "\n",
    "        for nombre in os.listdir(directorio):\n",
    "            ruta_completa = os.path.join(directorio, nombre)\n",
    "\n",
    "            if os.path.isfile(ruta_completa) and subcadena.lower() in nombre.lower():\n",
    "                archivos_encontrados.append(nombre)\n",
    "\n",
    "        if archivos_encontrados:\n",
    "            print(f'\\nArchivos encontrados que contienen \"{subcadena}\":')\n",
    "            for archivo in archivos_encontrados:\n",
    "                print(archivo)\n",
    "        else:\n",
    "            print(f'No se encontraron archivos que contengan \"{subcadena}\".')\n",
    "\n",
    "    except PermissionError:\n",
    "        print(\"Error: No tienes permisos para acceder a este directorio.\")\n",
    "    except Exception as e:\n",
    "        print(f\"Ocurrió un error: {e}\")\n",
    "\n",
    "def main():\n",
    "    directorio = input(\"Ingrese la ruta del directorio: \")\n",
    "    subcadena = input(\"Ingrese la subcadena a buscar: \")\n",
    "    buscar_archivos(directorio, subcadena)\n",
    "main()\n"
   ]
  }
 ],
 "metadata": {
  "kernelspec": {
   "display_name": "Python 3",
   "language": "python",
   "name": "python3"
  },
  "language_info": {
   "codemirror_mode": {
    "name": "ipython",
    "version": 3
   },
   "file_extension": ".py",
   "mimetype": "text/x-python",
   "name": "python",
   "nbconvert_exporter": "python",
   "pygments_lexer": "ipython3",
   "version": "3.12.4"
  }
 },
 "nbformat": 4,
 "nbformat_minor": 2
}
